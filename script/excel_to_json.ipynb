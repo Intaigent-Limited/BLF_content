{
 "cells": [
  {
   "cell_type": "code",
   "execution_count": null,
   "metadata": {},
   "outputs": [],
   "source": [
    "# conver the grand truth data (ro confirmed excel to json)"
   ]
  },
  {
   "cell_type": "code",
   "execution_count": 52,
   "metadata": {},
   "outputs": [],
   "source": [
    "import pandas as pd\n",
    "import json\n",
    "\n",
    "# Read the Excel file\n",
    "df = pd.read_excel(\"/Users/weng/Library/CloudStorage/OneDrive-SharedLibraries-WBG/Hanoi3 Files - Intaigent/mobile_learning_content/blf_chatbot_script_share.xlsx\", sheet_name=\"Sheet_ALP_share\")\n",
    "\n",
    "# Identify 'Text' columns\n",
    "text_columns = [col for col in df.columns if col.startswith('Text')]\n",
    "\n",
    "# Identify all other columns as id_vars\n",
    "id_vars = [col for col in df.columns if col not in text_columns]\n",
    "\n",
    "# Melt the DataFrame\n",
    "df_melted = df.melt(id_vars=id_vars,\n",
    "                    value_vars=text_columns,\n",
    "                    var_name='text_num',\n",
    "                    value_name='Text')\n",
    "\n",
    "# rename text_num to mobile_summary_number, Text to mobile_summary_final\n",
    "df_melted.rename(columns={'text_num': 'mobile_summary_number', 'Text': 'mobile_summary_final'}, inplace=True)\n",
    "\n",
    "# make the mobile_summary_number as integer, remove text\n",
    "df_melted['mobile_summary_number'] = df_melted['mobile_summary_number'].str.replace('Text', '').astype(int)\n",
    "\n",
    "# clean variables names to lower case and replace space with underscore\n",
    "df_melted.columns = df_melted.columns.str.lower().str.replace(' ', '_')\n",
    "\n",
    "# make course_id as integer\n",
    "df_melted['course_id'] = df_melted['course_id'].astype(int)\n",
    "\n",
    "# sort course_id, mobile_summary_number\n",
    "df_melted.sort_values(['course_id', 'mobile_summary_number'], inplace=True)\n",
    "\n",
    "# remove the row if mobile_summary_final is empty\n",
    "df_melted = df_melted[df_melted['mobile_summary_final'].notnull()]"
   ]
  },
  {
   "cell_type": "code",
   "execution_count": 53,
   "metadata": {},
   "outputs": [
    {
     "data": {
      "text/plain": [
       "Index(['learning_path_(h1)', 'category_(h2)', 'course_(h3)', 'course_id',\n",
       "       'encouraging_words', 'topic_introduction', 'mobile_summary_number',\n",
       "       'mobile_summary_final'],\n",
       "      dtype='object')"
      ]
     },
     "execution_count": 53,
     "metadata": {},
     "output_type": "execute_result"
    }
   ],
   "source": [
    "df_melted.columns"
   ]
  },
  {
   "cell_type": "code",
   "execution_count": null,
   "metadata": {},
   "outputs": [],
   "source": [
    "# convert this df_melted to json, following the exact structure of the file blf_mobile_intaigent_english.json. \n",
    "# the relationship would be group by course_id, then by mobile_summary_number 'learning_path_(h1)', 'category_(h2)', 'encouraging_words'\n",
    "\n"
   ]
  },
  {
   "cell_type": "code",
   "execution_count": 54,
   "metadata": {},
   "outputs": [
    {
     "name": "stdout",
     "output_type": "stream",
     "text": [
      "JSON file has been created successfully.\n"
     ]
    }
   ],
   "source": [
    "# Convert df_melted to the desired JSON structure\n",
    "result = {}\n",
    "\n",
    "for _, row in df_melted.iterrows():\n",
    "    learning_path = row['learning_path_(h1)']\n",
    "    category = row['category_(h2)']\n",
    "    course = row['course_(h3)']\n",
    "    course_id = row['course_id']\n",
    "    encouraging_words = row['encouraging_words']\n",
    "    topic_introduction = row['topic_introduction']\n",
    "    mobile_summary_number = row['mobile_summary_number']\n",
    "    mobile_summary_final = row['mobile_summary_final']\n",
    "\n",
    "    if learning_path not in result:\n",
    "        result[learning_path] = {}\n",
    "    \n",
    "    if category not in result[learning_path]:\n",
    "        result[learning_path][category] = {}\n",
    "    \n",
    "    if course not in result[learning_path][category]:\n",
    "        result[learning_path][category][course] = {\n",
    "            topic_introduction: {\n",
    "                encouraging_words: []\n",
    "            }\n",
    "        }\n",
    "    \n",
    "    summary = {\n",
    "        \"mobile_summary_number\": str(mobile_summary_number),\n",
    "        \"mobile_summary_final\": mobile_summary_final\n",
    "    }\n",
    "    \n",
    "    result[learning_path][category][course][topic_introduction][encouraging_words].append(summary)\n",
    "\n",
    "# Sort the summaries by mobile_summary_number\n",
    "for learning_path in result:\n",
    "    for category in result[learning_path]:\n",
    "        for course in result[learning_path][category]:\n",
    "            for topic in result[learning_path][category][course]:\n",
    "                for encouraging_words in result[learning_path][category][course][topic]:\n",
    "                    result[learning_path][category][course][topic][encouraging_words].sort(\n",
    "                        key=lambda x: int(x['mobile_summary_number'])\n",
    "                    )\n",
    "\n",
    "# Write the result to a JSON file\n",
    "import json\n",
    "\n",
    "with open('../reference/blf_mobile_intaigent_alp_version.json', 'w', encoding='utf-8') as f:\n",
    "    json.dump(result, f, ensure_ascii=False, indent=4)\n",
    "\n",
    "print(\"JSON file has been created successfully.\")"
   ]
  }
 ],
 "metadata": {
  "kernelspec": {
   "display_name": "Python 3",
   "language": "python",
   "name": "python3"
  },
  "language_info": {
   "codemirror_mode": {
    "name": "ipython",
    "version": 3
   },
   "file_extension": ".py",
   "mimetype": "text/x-python",
   "name": "python",
   "nbconvert_exporter": "python",
   "pygments_lexer": "ipython3",
   "version": "3.10.7"
  }
 },
 "nbformat": 4,
 "nbformat_minor": 2
}
