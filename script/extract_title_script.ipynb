{
 "cells": [
  {
   "cell_type": "markdown",
   "metadata": {},
   "source": [
    "This file is to extract the levels of title of BLF learning content, so users can quickly review the issue. "
   ]
  },
  {
   "cell_type": "markdown",
   "metadata": {},
   "source": [
    "## 1. Extract the current titles at different level"
   ]
  },
  {
   "cell_type": "code",
   "execution_count": 2,
   "metadata": {},
   "outputs": [
    {
     "name": "stdout",
     "output_type": "stream",
     "text": [
      "English structure has been extracted and saved to 'structure_english.json'\n",
      "Swahili structure has been extracted and saved to 'structure_swahili.json'\n"
     ]
    }
   ],
   "source": [
    "# Extract the different levels of content title (outline) in the english json file\n",
    "\n",
    "import json\n",
    "\n",
    "def extract_structure(data):\n",
    "    structure = {}\n",
    "    for category in data:\n",
    "        structure[category] = {}\n",
    "        for subcategory in data[category]:\n",
    "            structure[category][subcategory] = list(data[category][subcategory].keys())\n",
    "    return structure\n",
    "\n",
    "# Read the original JSON file for English\n",
    "with open('../blf_mobile_intaigent_english.json', 'r') as file:\n",
    "    original_data_english = json.load(file)\n",
    "\n",
    "# Extract the structure for English\n",
    "structure_data_english = extract_structure(original_data_english)\n",
    "\n",
    "# Write the structure to a new JSON file for English\n",
    "with open('structure_english.json', 'w') as file:\n",
    "    json.dump(structure_data_english, file, indent=2)\n",
    "\n",
    "print(\"English structure has been extracted and saved to 'structure_english.json'\")\n",
    "\n",
    "# Read the original JSON file for Swahili\n",
    "with open('../blf_mobile_intaigent_swahili.json', 'r') as file:\n",
    "    original_data_swahili = json.load(file)\n",
    "\n",
    "# Extract the structure for Swahili\n",
    "structure_data_swahili = extract_structure(original_data_swahili)\n",
    "\n",
    "# Write the structure to a new JSON file for Swahili\n",
    "with open('structure_swahili.json', 'w') as file:\n",
    "    json.dump(structure_data_swahili, file, indent=2)\n",
    "\n",
    "print(\"Swahili structure has been extracted and saved to 'structure_swahili.json'\")\n"
   ]
  },
  {
   "cell_type": "markdown",
   "metadata": {},
   "source": [
    "## 2. Modify titles in structure_english.json from manual review"
   ]
  },
  {
   "cell_type": "markdown",
   "metadata": {},
   "source": [
    "utilized the structure_english_ro.json where the content is reviewed by the ALP team, but it's not ordered content. "
   ]
  },
  {
   "cell_type": "markdown",
   "metadata": {},
   "source": [
    "## 3. Update the english full content with the latest title"
   ]
  },
  {
   "cell_type": "code",
   "execution_count": 4,
   "metadata": {},
   "outputs": [
    {
     "name": "stdout",
     "output_type": "stream",
     "text": [
      "Updated ../blf_mobile_intaigent_english.json based on the structure in structure_english.json\n"
     ]
    }
   ],
   "source": [
    "import json\n",
    "\n",
    "def update_content_structure(structure_file, content_file):\n",
    "    # Load the structure file\n",
    "    with open(structure_file, 'r') as f:\n",
    "        structure = json.load(f)\n",
    "\n",
    "    # Load the content file\n",
    "    with open(content_file, 'r') as f:\n",
    "        content = json.load(f)\n",
    "\n",
    "    # Create a new content structure based on the structure file\n",
    "    new_content = {}\n",
    "\n",
    "    for category, subcategories in structure.items():\n",
    "        new_content[category] = {}\n",
    "        for subcategory, topics in subcategories.items():\n",
    "            new_content[category][subcategory] = {}\n",
    "            for topic in topics:\n",
    "                # If the topic exists in the old content, copy it over\n",
    "                if (category in content and \n",
    "                    subcategory in content[category] and \n",
    "                    topic in content[category][subcategory]):\n",
    "                    new_content[category][subcategory][topic] = content[category][subcategory][topic]\n",
    "                else:\n",
    "                    # If it's a new topic, initialize it with an empty dictionary\n",
    "                    new_content[category][subcategory][topic] = {}\n",
    "\n",
    "    # Write the updated content back to the file\n",
    "    with open(content_file, 'w') as f:\n",
    "        json.dump(new_content, f, indent=2)\n",
    "\n",
    "    print(f\"Updated {content_file} based on the structure in {structure_file}\")\n",
    "\n",
    "# Usage\n",
    "structure_file = 'structure_english.json'\n",
    "content_file = '../blf_mobile_intaigent_english.json'\n",
    "update_content_structure(structure_file, content_file)"
   ]
  },
  {
   "cell_type": "code",
   "execution_count": 6,
   "metadata": {},
   "outputs": [
    {
     "name": "stdout",
     "output_type": "stream",
     "text": [
      "structure_english.json and structure_swahili.json have been removed\n"
     ]
    }
   ],
   "source": [
    "# erase structure_english.json and structure_swahili.json temporary files\n",
    "import os\n",
    "os.remove(\"structure_english.json\")\n",
    "os.remove(\"structure_swahili.json\")\n",
    "print(\"structure_english.json and structure_swahili.json have been removed\")\n"
   ]
  },
  {
   "cell_type": "markdown",
   "metadata": {},
   "source": [
    "Need ALP review:\n",
    "- blf_mobile_intaigent_english.json"
   ]
  },
  {
   "cell_type": "markdown",
   "metadata": {},
   "source": [
    "## 4. Similar Modification needed for Swahili"
   ]
  },
  {
   "cell_type": "markdown",
   "metadata": {},
   "source": [
    "Once confirmed from ALP with the latest version, shall proceed all these modification to Swahili content as well. \n",
    "- The title, see the translation reference in shared drive: https://worldbankgroup.sharepoint.com/:x:/r/sites/VNHAN3Files/Shared%20Documents/Teams/ALP/ALP%20Chatbot/Intaigent/swahili_translation/full_script_share.xlsx?d=wbf386d30284242d0a17628c8efb32657&csf=1&web=1&e=77fJau\n",
    "- The order of content"
   ]
  }
 ],
 "metadata": {
  "kernelspec": {
   "display_name": "Python 3",
   "language": "python",
   "name": "python3"
  },
  "language_info": {
   "codemirror_mode": {
    "name": "ipython",
    "version": 3
   },
   "file_extension": ".py",
   "mimetype": "text/x-python",
   "name": "python",
   "nbconvert_exporter": "python",
   "pygments_lexer": "ipython3",
   "version": "3.10.7"
  }
 },
 "nbformat": 4,
 "nbformat_minor": 2
}
