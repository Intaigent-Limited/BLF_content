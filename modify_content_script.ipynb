{
 "cells": [
  {
   "cell_type": "markdown",
   "metadata": {},
   "source": [
    " extract three level of titles from the json file\n"
   ]
  },
  {
   "cell_type": "code",
   "execution_count": 21,
   "metadata": {},
   "outputs": [
    {
     "name": "stdout",
     "output_type": "stream",
     "text": [
      "Structured titles extracted and saved to structured_titles.json\n"
     ]
    }
   ],
   "source": [
    "# Extract top three levels of titles from blf_mobile_intaigent_english.json\n",
    "# The output file should be a structured JSON file\n",
    "\n",
    "import json\n",
    "\n",
    "def extract_titles():\n",
    "    with open('blf_mobile_intaigent_english.json', 'r') as f:\n",
    "        data = json.load(f)\n",
    "        \n",
    "    structured_titles = {}\n",
    "    for level1, level1_content in data.items():\n",
    "        structured_titles[level1] = {}\n",
    "        for level2, level2_content in level1_content.items():\n",
    "            structured_titles[level1][level2] = list(level2_content.keys())\n",
    "    \n",
    "    with open('structured_titles.json', 'w') as f:\n",
    "        json.dump(structured_titles, f, indent=2)\n",
    "\n",
    "if __name__ == '__main__':\n",
    "    extract_titles()\n",
    "    print(\"Structured titles extracted and saved to structured_titles.json\")\n",
    "\n"
   ]
  }
 ],
 "metadata": {
  "kernelspec": {
   "display_name": "Python 3",
   "language": "python",
   "name": "python3"
  },
  "language_info": {
   "codemirror_mode": {
    "name": "ipython",
    "version": 3
   },
   "file_extension": ".py",
   "mimetype": "text/x-python",
   "name": "python",
   "nbconvert_exporter": "python",
   "pygments_lexer": "ipython3",
   "version": "3.10.7"
  }
 },
 "nbformat": 4,
 "nbformat_minor": 2
}
